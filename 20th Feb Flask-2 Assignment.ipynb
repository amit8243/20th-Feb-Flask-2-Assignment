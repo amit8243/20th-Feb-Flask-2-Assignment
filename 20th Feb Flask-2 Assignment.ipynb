{
 "cells": [
  {
   "cell_type": "code",
   "execution_count": null,
   "id": "865072cc-fbdf-48a0-9f98-801c22084f33",
   "metadata": {},
   "outputs": [],
   "source": [
    "#Flask-2 Assignment\n",
    "\"\"\"Q1. Explain GET and POST methods.\"\"\"\n",
    "Ans: \n",
    "\n",
    "By default, the Flask route responds to the GET requests. However, this preference can be altered by providing \n",
    "methods argument to route() decorator. It is the most common method which can be used to send data in the unencrypted \n",
    "form to the server.\n",
    "\n",
    "\n",
    "In order to demonstrate the use of POST method in URL routing, first let us create an HTML form and use the POST method \n",
    "to send form data to a URL. It is used to send the form data to the server. The server does not cache the data \n",
    "transmitted using the post method.\n",
    "\n",
    "\"\"\"Q2. Why is request used in Flask?\"\"\"\n",
    "Ans: In a Flask App, we have our own Webpage (Client) and a Server. The Server should process the data. The Request, \n",
    "in Flask, is an object that contains all the data sent from the Client to Server. This data can be recovered using the \n",
    "GET/POST Methods. \n",
    "\n",
    "\"\"\"Q3. Why is redirect() used in Flask?\"\"\"\n",
    "Ans: Redirection in Flask can be done by returning a redirect response object, created by invoking the redirect() \n",
    "function. The same method is used for redirecting to other routes on the same application and external websites.\n",
    "\n",
    "\"\"\"Q4. What are templates in Flask? Why is the render_template() function used?\"\"\"\n",
    "Ans: Flask is a backend web framework based on the Python programming language. It basically allows creating web \n",
    "applications in a Pythonic syntax and concepts. With Flask, we can use Python libraries and tools in our web \n",
    "applications. Using Flask we can set up a webserver to load up some basic HTML templates along with Jinja2 templating \n",
    "syntax.\n",
    "Flask provides us the render_template() function which can be used to render the external HTML file to be returned as \n",
    "the response from the view function.\n",
    "\n",
    "\"\"\"Q5. Create a simple API. Use Postman to test it. Attach the screenshot of the output in the Jupyter Notebook.\"\"\"\n",
    "Ans: attchment the screenshot in github link"
   ]
  }
 ],
 "metadata": {
  "kernelspec": {
   "display_name": "Python 3 (ipykernel)",
   "language": "python",
   "name": "python3"
  },
  "language_info": {
   "codemirror_mode": {
    "name": "ipython",
    "version": 3
   },
   "file_extension": ".py",
   "mimetype": "text/x-python",
   "name": "python",
   "nbconvert_exporter": "python",
   "pygments_lexer": "ipython3",
   "version": "3.10.8"
  }
 },
 "nbformat": 4,
 "nbformat_minor": 5
}
